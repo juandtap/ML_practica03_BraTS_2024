{
 "cells": [
  {
   "cell_type": "markdown",
   "metadata": {},
   "source": [
    "![ups logo](https://upload.wikimedia.org/wikipedia/commons/thumb/b/b0/Logo_Universidad_Polit%C3%A9cnica_Salesiana_del_Ecuador.png/640px-Logo_Universidad_Polit%C3%A9cnica_Salesiana_del_Ecuador.png)\n",
    "\n",
    "# Aprendizaje Automático\n",
    "\n",
    "# Practica 03\n",
    "\n",
    "# Deep Learning con Redes Neuronales Convolucionales (CNN). Transfer Learning y Métodos Ensemble. Clasificación de Imágenes con Dataset BraTS-2024\n",
    "\n",
    "### Autor: Diego Tapia"
   ]
  },
  {
   "cell_type": "markdown",
   "metadata": {},
   "source": [
    "#### Instalación e importación de librerías"
   ]
  },
  {
   "cell_type": "code",
   "execution_count": 4,
   "metadata": {},
   "outputs": [
    {
     "name": "stdout",
     "output_type": "stream",
     "text": [
      "librerías importadas !\n"
     ]
    }
   ],
   "source": [
    "import nibabel as nib\n",
    "import matplotlib as mpl\n",
    "import matplotlib.pyplot as plt\n",
    "from matplotlib.colors import ListedColormap\n",
    "from skimage.transform import rotate\n",
    "from skimage.util import montage\n",
    "import os\n",
    "from sklearn.model_selection import train_test_split\n",
    "import keras\n",
    "#import cv2\n",
    "import tensorflow\n",
    "import random\n",
    "from tensorflow.keras.layers import *\n",
    "from tensorflow.keras.models import *\n",
    "import numpy as np\n",
    "from keras.callbacks import CSVLogger\n",
    "import keras.backend as K\n",
    "import zipfile\n",
    "import pandas as pd\n",
    "\n",
    "print(\"librerías importadas !\")"
   ]
  },
  {
   "cell_type": "markdown",
   "metadata": {},
   "source": [
    "## Descripción del dataset"
   ]
  },
  {
   "cell_type": "markdown",
   "metadata": {},
   "source": [
    "El conjunto de datos de entrenamiento proporcionado para el desafío BraTS-GoAT-2024 consiste en 2252 exploraciones de mpMRI cerebrales junto con anotaciones de segmentación de regiones tumorales. Los volúmenes 3D fueron despojados del cráneo y re-muestreados a una resolución isotrópica de 1 mm, con dimensiones de (240, 240, 155) voxels. \n",
    "\n",
    "Todos los escaneos mpMRI de BraTS están disponibles como archivos NIfTI (.nii.gz) y se clasifican de las siguiente forma:\n",
    "\n",
    "* t1n: imágenes nativas \n",
    "* t1c: imágenes ponderadas en T1 post-contraste (T1Gd),\n",
    "* t2w: imágenes ponderadas en T2 \n",
    "* t2f: volúmenes de inversión de recuperación atenuada de fluido en T2 (T2-FLAIR), \n",
    "\n",
    "T1, T2 y FLAIR son secuencias o tipos específicos de imágenes que se adquieren durante un escaneo de resonancia magnética. Cada una de estas secuencias proporciona información única sobre los tejidos y las estructuras del cuerpo, y se utilizan para diferentes propósitos en el diagnóstico médico. \n",
    "\n",
    "T1 (Tiempo de Repetición 1):\n",
    "Las imágenes T1 son sensibles a la cantidad de protones de hidrógeno presente en los tejidos y cómo están organizados. En estas imágenes, los tejidos con alto contenido de grasa aparecen brillantes, mientras que los tejidos con alto contenido de agua, como el líquido cerebroespinal, aparecen oscuros. Las imágenes T1 son útiles para resaltar la anatomía estructural, como el cerebro, los músculos y la médula espinal. También son útiles para evaluar la presencia de lesiones hemorrágicas, ya que la sangre también aparece brillante en estas imágenes.\n",
    "\n",
    "T2 (Tiempo de Repetición 2):\n",
    "Las imágenes T2 son sensibles a cómo interactúan los protones de hidrógeno entre sí y con su entorno. En estas imágenes, los tejidos con alto contenido de agua aparecen brillantes, mientras que los tejidos con bajo contenido de agua, como la grasa, aparecen oscuros. Las imágenes T2 son excelentes para detectar edema, inflamación y cambios patológicos en los tejidos. Son útiles en la evaluación de patologías como la esclerosis múltiple, tumores cerebrales y lesiones de la médula espinal.\n",
    "\n",
    "FLAIR (Fluid Attenuated Inversion Recovery):\n",
    "Las imágenes FLAIR son una variante de las imágenes T2 que suprimen la señal del líquido cerebroespinal (CSF, por sus siglas en inglés) para mejorar la visualización de las estructuras periventriculares y subcorticales del cerebro. Al suprimir la señal del CSF, las imágenes FLAIR pueden mejorar la detección de lesiones cerebrales y proporcionar una mejor diferenciación entre la sustancia blanca y la sustancia gris en el cerebro. Son útiles en el diagnóstico de enfermedades como la esclerosis múltiple, la encefalitis y las lesiones cerebrales traumáticas.\n",
    "\n",
    "Todas estas imagenes fueron adquiridas con diferentes protocolos clínicos de múltiples instituciones contribuyentes de datos."
   ]
  },
  {
   "cell_type": "markdown",
   "metadata": {},
   "source": [
    "#### Segmentación\n",
    "\n",
    "Todas las imágenes han sido anotadas manualmente por uno a cuatro evaluadores, siguiendo el mismo protocolo de anotación, y sus anotaciones fueron aprobadas por neurorradiólogos experimentados.\n",
    "\n",
    "Las anotaciones para la segmentacion consisten en cuatro clases: \n",
    "\n",
    "* 1 para el núcleo tumoral necrótico (NCR), \n",
    "* 2 para el tejido edematoso peritumoral (ED), \n",
    "* 3 para el tumor realzante (ET) y \n",
    "* 0 para el fondo (voxels que no son parte del tumor).\n"
   ]
  },
  {
   "cell_type": "markdown",
   "metadata": {},
   "source": [
    "## Análisis Exploratorio"
   ]
  },
  {
   "cell_type": "markdown",
   "metadata": {},
   "source": [
    "\n",
    "Como se menciona anteriormente el dataset Brats cuenta con **2252** muestras de tomografías cerebrales a su vez cada muestra contiene 5 imágenes volumétricas correspondientes al tipo de mri t1n, t1c, t2w, t2f y segmentación, dando como resultado un total de **11260** imágenes volumétricas"
   ]
  }
 ],
 "metadata": {
  "kernelspec": {
   "display_name": "ml3venv",
   "language": "python",
   "name": "python3"
  },
  "language_info": {
   "codemirror_mode": {
    "name": "ipython",
    "version": 3
   },
   "file_extension": ".py",
   "mimetype": "text/x-python",
   "name": "python",
   "nbconvert_exporter": "python",
   "pygments_lexer": "ipython3",
   "version": "3.12.3"
  }
 },
 "nbformat": 4,
 "nbformat_minor": 2
}
